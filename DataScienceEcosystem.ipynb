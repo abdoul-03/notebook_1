{
 "cells": [
  {
   "cell_type": "markdown",
   "id": "96f19bc6-1ee3-4bd1-85d7-8a8406b18338",
   "metadata": {},
   "source": [
    "<center>\n",
    "    <img src=\"https://cf-courses-data.s3.us.cloud-object-storage.appdomain.cloud/IBMDeveloperSkillsNetwork-DS0105EN-SkillsNetwork/labs/Module2/images/SN_web_lightmode.png\" width=\"300\" alt=\"cognitiveclass.ai logo\">\n",
    "</center>\n"
   ]
  },
  {
   "cell_type": "markdown",
   "id": "d4041416-3b46-4d1c-8fc7-ce60a7890cea",
   "metadata": {},
   "source": [
    "# Hands-on Lab: Create your Jupyter Notebook\n"
   ]
  },
  {
   "cell_type": "markdown",
   "id": "0ee2c4a7-5147-4531-a6cc-ade8e8ee5919",
   "metadata": {},
   "source": [
    "#### Add your code below following the instructions given in the course\n"
   ]
  },
  {
   "cell_type": "markdown",
   "id": "bdf3c2b8-92a0-491a-8bf0-d8007f5be807",
   "metadata": {},
   "source": [
    "# Data Science Tools and Ecosystem "
   ]
  },
  {
   "cell_type": "markdown",
   "id": "6aa7b872-b4fd-4b52-95f2-1d300255779c",
   "metadata": {},
   "source": [
    "In this notebook, Data Science Tools and Ecosystem  are summarized."
   ]
  },
  {
   "cell_type": "markdown",
   "id": "8a7f1565-28da-45fd-a915-ef86f8ba9e69",
   "metadata": {},
   "source": [
    "**Objectives:**\n",
    "* List popular languages for Data Science\n",
    "* List commonly used libraries in Data Science \n",
    "* Make a table of some Data Science Tools"
   ]
  },
  {
   "cell_type": "markdown",
   "id": "8f38cca0-c9ad-4a85-8c80-f24fd55286b9",
   "metadata": {},
   "source": [
    "Some of the popular languages that Data Scientists use are : \n",
    "1. Python\n",
    "2. R\n",
    "3. SQL "
   ]
  },
  {
   "cell_type": "markdown",
   "id": "24534696-7a40-4c33-a2b0-cc9efa6dd31f",
   "metadata": {},
   "source": [
    "Some of the commonly used libraries used by Data Scientists include:\n",
    "\n",
    "1. Pandas\n",
    "2. Scikit-learn\n",
    "3. Keras"
   ]
  },
  {
   "cell_type": "markdown",
   "id": "37355571-f4d4-49dc-a559-3e9f6c369488",
   "metadata": {},
   "source": [
    "| Data Science Tools | \n",
    "| ------------------ |\n",
    "| Visual Studio Code |\n",
    "| Jyputerlab |\n",
    "| Spyder |"
   ]
  },
  {
   "cell_type": "markdown",
   "id": "17ee194c-e60f-45eb-9db6-10715e53e7ec",
   "metadata": {},
   "source": [
    "### Below are a few examples of evaluating arithmetic expressions in Python"
   ]
  },
  {
   "cell_type": "code",
   "execution_count": 9,
   "id": "e79c6a0c-1243-47b0-a366-8349828856e1",
   "metadata": {},
   "outputs": [
    {
     "data": {
      "text/plain": [
       "17"
      ]
     },
     "execution_count": 9,
     "metadata": {},
     "output_type": "execute_result"
    }
   ],
   "source": [
    "# This a simple arithmetic expression to mutiply then add integers\n",
    "(3*4)+5"
   ]
  },
  {
   "cell_type": "code",
   "execution_count": 10,
   "id": "74789464-55dd-425c-a1cb-725865c4c46b",
   "metadata": {},
   "outputs": [
    {
     "name": "stdout",
     "output_type": "stream",
     "text": [
      "200 minutes convert into hours is equal to : 3h 20 minutes\n"
     ]
    }
   ],
   "source": [
    "# This will convert 200 minutes to hours by diving by 60\n",
    "h = 200//60 \n",
    "m = 200%60\n",
    "print(f\"200 minutes convert into hours is equal to : {h}h {m} minutes\")  "
   ]
  },
  {
   "cell_type": "markdown",
   "id": "96edcba3-43c2-40af-ba13-601ccef8c5d8",
   "metadata": {},
   "source": [
    "## Author : \n",
    "Abdoulaye TRAORE"
   ]
  }
 ],
 "metadata": {
  "kernelspec": {
   "display_name": "Python [conda env:anaconda3] *",
   "language": "python",
   "name": "conda-env-anaconda3-py"
  },
  "language_info": {
   "codemirror_mode": {
    "name": "ipython",
    "version": 3
   },
   "file_extension": ".py",
   "mimetype": "text/x-python",
   "name": "python",
   "nbconvert_exporter": "python",
   "pygments_lexer": "ipython3",
   "version": "3.13.5"
  }
 },
 "nbformat": 4,
 "nbformat_minor": 5
}
